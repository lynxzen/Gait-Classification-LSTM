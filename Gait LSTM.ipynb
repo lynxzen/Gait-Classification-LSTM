{
 "cells": [
  {
   "cell_type": "markdown",
   "id": "ab2d7f8b",
   "metadata": {},
   "source": [
    "### Dependencies"
   ]
  },
  {
   "cell_type": "code",
   "execution_count": 21,
   "id": "511ac4f9",
   "metadata": {},
   "outputs": [],
   "source": [
    "import tensorflow as tf\n",
    "from tensorflow.keras.models import Sequential\n",
    "from tensorflow.keras.layers import LSTM, Dense, Dropout, Input\n",
    "import numpy as np\n",
    "import pandas as pd\n",
    "from sklearn.preprocessing import MinMaxScaler\n",
    "from sklearn.model_selection import train_test_split\n",
    "import os\n",
    "import glob\n",
    "import shutil\n",
    "import random"
   ]
  },
  {
   "cell_type": "markdown",
   "id": "e0ccbaff",
   "metadata": {},
   "source": [
    "# Preprocessing"
   ]
  },
  {
   "cell_type": "markdown",
   "id": "708f1d9a",
   "metadata": {},
   "source": [
    "## Feature Scaling & File Sorting"
   ]
  },
  {
   "cell_type": "code",
   "execution_count": 2,
   "id": "f86709f4",
   "metadata": {},
   "outputs": [],
   "source": [
    "# input and output directories\n",
    "root_dir = '../datasets/BB-MAS_Dataset/BB-MAS_Dataset/'\n",
    "output_base_dir = '../datasets/BB-MAS_Preprocessed/'\n",
    "\n",
    "# distinguish between accelerometer and gyroscope data\n",
    "sensor_types = {'Accelerometer': 'accelerometer', 'Gyroscope': 'gyroscope'}\n",
    "\n",
    "# folders 1 - 117\n",
    "for i in range(1, 118):\n",
    "    folder_path = os.path.join(root_dir, str(i))\n",
    "    csv_files = glob.glob(os.path.join(folder_path, '*_PocketPhone_*.csv'))\n",
    "    \n",
    "    if not csv_files:\n",
    "        continue\n",
    "    \n",
    "    for csv_file in csv_files:\n",
    "        df = pd.read_csv(csv_file)\n",
    "        \n",
    "        # copy the features that aren't being normalized then normalize to be between -1 and 1\n",
    "        output_df = df[['time']].copy()\n",
    "        scaler = MinMaxScaler(feature_range=(-1, 1))\n",
    "        \n",
    "        for column in ['Xvalue', 'Yvalue', 'Zvalue']:\n",
    "            scaled_values = scaler.fit_transform(df[[column]])\n",
    "            output_df[column] = scaled_values\n",
    "            \n",
    "        # convert timestamp to panda datetime -> calculate elapsed times -> drop original timestamp\n",
    "        output_df['time'] = pd.to_datetime(output_df['time'])\n",
    "        output_df['elapsed_time'] = output_df['time'].diff().dt.total_seconds().fillna(0)\n",
    "        output_df.drop(columns=['time'], inplace=True)\n",
    "        \n",
    "        # determine sensor type for output directory\n",
    "        for sensor_key, sensor_folder in sensor_types.items():\n",
    "            if sensor_key in csv_file:\n",
    "                sensor_output_dir = os.path.join(output_base_dir, sensor_folder)\n",
    "                break\n",
    "        else:\n",
    "            sensor_output_dir = os.path.join(output_base_dir, 'other')\n",
    "        \n",
    "        # make sure folders exist and set output file names to be the input file name\n",
    "        os.makedirs(sensor_output_dir, exist_ok=True)\n",
    "        output_filename = os.path.basename(csv_file)\n",
    "        \n",
    "        # Write to file in the specific sensor type folder\n",
    "        output_df.to_csv(os.path.join(sensor_output_dir, output_filename), index=False)\n"
   ]
  },
  {
   "cell_type": "markdown",
   "id": "fa11735f",
   "metadata": {},
   "source": [
    "## Data Resize & Combination"
   ]
  },
  {
   "cell_type": "code",
   "execution_count": 26,
   "id": "97a578ef",
   "metadata": {},
   "outputs": [],
   "source": [
    "# preprocessed data paths\n",
    "folder_path_accelerometer = '../datasets/BB-MAS_Preprocessed/accelerometer/'\n",
    "folder_path_gyroscope = '../datasets/BB-MAS_Preprocessed/gyroscope/'\n",
    "\n",
    "# resized data paths\n",
    "folder_path_accelerometer_resized = '../datasets/BB-MAS_resized/accelerometer/'\n",
    "folder_path_gyroscope_resized = '../datasets/BB-MAS_resized/gyroscope/'\n",
    "\n",
    "# resized + combined path\n",
    "folder_path_combined_resized = '../datasets/BB-MAS_combined_labeled/'\n",
    "\n",
    "# final train, validation, and test sets\n",
    "folder_path_train_valid_test = '../datasets/BB-MAS_train_valid_test/'\n",
    "\n",
    "directories = [folder_path_accelerometer, folder_path_gyroscope, folder_path_accelerometer_resized, folder_path_gyroscope_resized, folder_path_combined_resized, folder_path_train_valid_test]\n",
    "\n",
    "for directory in directories:\n",
    "    os.makedirs(directory, exist_ok=True)\n"
   ]
  },
  {
   "cell_type": "markdown",
   "id": "c9cb6e41",
   "metadata": {},
   "source": [
    "### Data statistics "
   ]
  },
  {
   "cell_type": "code",
   "execution_count": 27,
   "id": "a7c1b6c7",
   "metadata": {
    "scrolled": true
   },
   "outputs": [
    {
     "name": "stdout",
     "output_type": "stream",
     "text": [
      "Num samples accelerometer: 113\n",
      "Num samples gyroscope: 113\n",
      "\n",
      "least number of rows in accelerometer folder: ('104_PocketPhone_Accelerometer_(Samsung_S6).csv', 17024)\n",
      "least number of rows in gyroscope folder: ('104_PocketPhone_Gyroscope_(Samsung_S6).csv', 17023)\n",
      "\n",
      "Max rows in accelerometer    : ('85_PocketPhone_Accelerometer_(Samsung_S6).csv', 37299)\n",
      "Median rows in accelerometer : ('21_PocketPhone_Accelerometer_(Samsung_S6).csv', 29590)\n",
      "Average rows in accelerometer: 29087\n",
      "\n",
      "Max rows in gyroscope    : ('85_PocketPhone_Gyroscope_(Samsung_S6).csv', 37299)\n",
      "Median rows in gyroscope : ('21_PocketPhone_Gyroscope_(Samsung_S6).csv', 29590)\n",
      "Average rows in gyroscope: 29087\n",
      "\n"
     ]
    }
   ],
   "source": [
    "csv_files_accelerometer = glob.glob(os.path.join(folder_path_accelerometer, '*_PocketPhone_*.csv'))\n",
    "csv_files_gyroscope = glob.glob(os.path.join(folder_path_gyroscope, '*_PocketPhone_*.csv'))\n",
    "rows_accelerometer = []\n",
    "rows_gyroscope = []\n",
    "\n",
    "for csv_file in csv_files_accelerometer:\n",
    "    df = pd.read_csv(csv_file)\n",
    "    file_name = os.path.basename(csv_file)\n",
    "    rows_accelerometer.append((file_name, df.shape[0]))\n",
    "\n",
    "for csv_file in csv_files_gyroscope:\n",
    "    df = pd.read_csv(csv_file)\n",
    "    file_name = os.path.basename(csv_file)\n",
    "    rows_gyroscope.append((file_name, df.shape[0]))\n",
    "\n",
    "sorted_accelerometer = sorted(rows_accelerometer, key=lambda tup: tup[1])\n",
    "sorted_gyroscope = sorted(rows_gyroscope, key=lambda tup: tup[1])\n",
    "\n",
    "# This is only to get rid of the outlier in these two\n",
    "sorted_accelerometer.pop()\n",
    "sorted_gyroscope.pop()\n",
    "\n",
    "print(f'Num samples accelerometer: {len(sorted_accelerometer)}')\n",
    "print(f'Num samples gyroscope: {len(sorted_gyroscope)}\\n')\n",
    "\n",
    "print(f'least number of rows in accelerometer folder: {sorted_accelerometer[0]}')\n",
    "print(f'least number of rows in gyroscope folder: {sorted_gyroscope[0]}\\n')\n",
    "\n",
    "print(f'Max rows in accelerometer    : { sorted_accelerometer[-1]}')\n",
    "print(f'Median rows in accelerometer : { sorted_accelerometer[len(sorted_accelerometer) // 2] }')\n",
    "print(f'Average rows in accelerometer: { sum(x[1] for x in sorted_accelerometer ) // len(sorted_accelerometer)}\\n')\n",
    "\n",
    "print(f'Max rows in gyroscope    : { sorted_gyroscope[-1]}')\n",
    "print(f'Median rows in gyroscope : { sorted_gyroscope[len(sorted_gyroscope) // 2] }')\n",
    "print(f'Average rows in gyroscope: { sum(x[1] for x in sorted_gyroscope) // len(sorted_gyroscope) }\\n')"
   ]
  },
  {
   "cell_type": "markdown",
   "id": "817dfbb4",
   "metadata": {},
   "source": [
    "### Zipping together files that meet size requirements"
   ]
  },
  {
   "cell_type": "code",
   "execution_count": 28,
   "id": "d1d1117f",
   "metadata": {},
   "outputs": [],
   "source": [
    "# Eventually cutting all data to this size\n",
    "desired_size = 25000\n",
    "show_dropped = False\n",
    "\n",
    "accepted_accelerometer = []\n",
    "accepted_gyroscope = []\n",
    "accepted_pairs = []\n",
    "i = 0\n",
    "for file in sorted_accelerometer:\n",
    "    if file[1] >= desired_size:\n",
    "        accepted_accelerometer.append(file[0])\n",
    "        csv_file_old = folder_path_accelerometer + file[0]\n",
    "        csv_file_new = folder_path_accelerometer_resized + file[0]\n",
    "        shutil.copyfile(csv_file_old, csv_file_new)\n",
    "    else:\n",
    "        if show_dropped: print(f'file \\\"{file[0]}\\\" with size {file[1]} dropped')\n",
    "\n",
    "for file in sorted_gyroscope:\n",
    "    if file[1] >= desired_size:\n",
    "        accepted_gyroscope.append(file[0])\n",
    "        csv_file_old = folder_path_gyroscope + file[0]\n",
    "        csv_file_new = folder_path_gyroscope_resized + file[0]\n",
    "        shutil.copyfile(csv_file_old, csv_file_new)\n",
    "    else:\n",
    "        if show_dropped: print(f'file \\\"{file[0]}\\\" with size {file[1]} dropped')\n",
    "        \n",
    "#print(*accepted_accelerometer, sep='\\n')\n",
    "accepted_pairs = zip(accepted_accelerometer, accepted_gyroscope)\n",
    "\n",
    "#print(*accepted_pairs, sep='\\n')\n",
    "#print(f'{len(accepted_accelerometer)=}')\n",
    "#print(f'{len(accepted_gyroscope)=}')"
   ]
  },
  {
   "cell_type": "markdown",
   "id": "58d0ce85",
   "metadata": {},
   "source": [
    "### Final Resize + Accelerometer and Gyroscope Combination"
   ]
  },
  {
   "cell_type": "code",
   "execution_count": 29,
   "id": "4f40749f",
   "metadata": {},
   "outputs": [],
   "source": [
    "i = 1\n",
    "for acc, gyro in accepted_pairs:\n",
    "    # read unresized files\n",
    "    df_acc  = pd.read_csv(folder_path_accelerometer_resized + acc)\n",
    "    df_gyro = pd.read_csv(folder_path_gyroscope_resized + gyro)\n",
    "    \n",
    "    # drop elapsed time from gyro\n",
    "    df_gyro = df_gyro.drop('elapsed_time', axis=1)\n",
    "    \n",
    "    # resize files\n",
    "    df_acc  = df_acc.head(desired_size)\n",
    "    df_gyro = df_gyro.head(desired_size)\n",
    "    \n",
    "    # renames columns\n",
    "    df_acc.rename(columns={'Xvalue': 'Xvalue_acc', 'Yvalue': 'Yvalue_acc', 'Zvalue': 'Zvalue_acc'}, inplace=True)\n",
    "    df_gyro.rename(columns={'Xvalue': 'Xvalue_gyro', 'Yvalue': 'Yvalue_gyro', 'Zvalue': 'Zvalue_gyro'}, inplace=True)\n",
    "    \n",
    "    # combine files\n",
    "    combined_data = pd.concat([df_acc, df_gyro], axis=1)\n",
    "    combined_data.to_csv(folder_path_combined_resized + acc , index=False)\n",
    "    i += 1"
   ]
  },
  {
   "cell_type": "markdown",
   "id": "41d4f9bb",
   "metadata": {},
   "source": [
    "### Data Labeling"
   ]
  },
  {
   "cell_type": "code",
   "execution_count": 30,
   "id": "87a721a0",
   "metadata": {},
   "outputs": [
    {
     "name": "stdout",
     "output_type": "stream",
     "text": [
      "Adding demographics to ../datasets/BB-MAS_combined_labeled/62_PocketPhone_Accelerometer_(Samsung_S6).csv for User ID 62\n",
      "Adding demographics to ../datasets/BB-MAS_combined_labeled/106_PocketPhone_Accelerometer_(Samsung_S6).csv for User ID 106\n",
      "Adding demographics to ../datasets/BB-MAS_combined_labeled/25_PocketPhone_Accelerometer_(Samsung_S6).csv for User ID 25\n",
      "Adding demographics to ../datasets/BB-MAS_combined_labeled/46_PocketPhone_Accelerometer_(Samsung_S6).csv for User ID 46\n",
      "Adding demographics to ../datasets/BB-MAS_combined_labeled/87_PocketPhone_Accelerometer_(Samsung_S6).csv for User ID 87\n",
      "Adding demographics to ../datasets/BB-MAS_combined_labeled/51_PocketPhone_Accelerometer_(Samsung_S6).csv for User ID 51\n",
      "Adding demographics to ../datasets/BB-MAS_combined_labeled/16_PocketPhone_Accelerometer_(Samsung_S6).csv for User ID 16\n",
      "Adding demographics to ../datasets/BB-MAS_combined_labeled/90_PocketPhone_Accelerometer_(Samsung_S6).csv for User ID 90\n",
      "Adding demographics to ../datasets/BB-MAS_combined_labeled/111_PocketPhone_Accelerometer_(Samsung_S6).csv for User ID 111\n",
      "Adding demographics to ../datasets/BB-MAS_combined_labeled/75_PocketPhone_Accelerometer_(Samsung_S6).csv for User ID 75\n",
      "Adding demographics to ../datasets/BB-MAS_combined_labeled/98_PocketPhone_Accelerometer_(Samsung_S6).csv for User ID 98\n",
      "Adding demographics to ../datasets/BB-MAS_combined_labeled/5_PocketPhone_Accelerometer_(Samsung_S6).csv for User ID 5\n",
      "Adding demographics to ../datasets/BB-MAS_combined_labeled/92_PocketPhone_Accelerometer_(Samsung_S6).csv for User ID 92\n",
      "Adding demographics to ../datasets/BB-MAS_combined_labeled/38_PocketPhone_Accelerometer_(Samsung_S6).csv for User ID 38\n",
      "Adding demographics to ../datasets/BB-MAS_combined_labeled/53_PocketPhone_Accelerometer_(Samsung_S6).csv for User ID 53\n",
      "Adding demographics to ../datasets/BB-MAS_combined_labeled/30_PocketPhone_Accelerometer_(Samsung_S6).csv for User ID 30\n",
      "Adding demographics to ../datasets/BB-MAS_combined_labeled/113_PocketPhone_Accelerometer_(Samsung_S6).csv for User ID 113\n",
      "Adding demographics to ../datasets/BB-MAS_combined_labeled/27_PocketPhone_Accelerometer_(Samsung_S6).csv for User ID 27\n",
      "Adding demographics to ../datasets/BB-MAS_combined_labeled/60_PocketPhone_Accelerometer_(Samsung_S6).csv for User ID 60\n",
      "Adding demographics to ../datasets/BB-MAS_combined_labeled/85_PocketPhone_Accelerometer_(Samsung_S6).csv for User ID 85\n",
      "Adding demographics to ../datasets/BB-MAS_combined_labeled/68_PocketPhone_Accelerometer_(Samsung_S6).csv for User ID 68\n",
      "Adding demographics to ../datasets/BB-MAS_combined_labeled/44_PocketPhone_Accelerometer_(Samsung_S6).csv for User ID 44\n",
      "Adding demographics to ../datasets/BB-MAS_combined_labeled/107_PocketPhone_Accelerometer_(Samsung_S6).csv for User ID 107\n",
      "Adding demographics to ../datasets/BB-MAS_combined_labeled/63_PocketPhone_Accelerometer_(Samsung_S6).csv for User ID 63\n",
      "Adding demographics to ../datasets/BB-MAS_combined_labeled/47_PocketPhone_Accelerometer_(Samsung_S6).csv for User ID 47\n",
      "Adding demographics to ../datasets/BB-MAS_combined_labeled/86_PocketPhone_Accelerometer_(Samsung_S6).csv for User ID 86\n",
      "Adding demographics to ../datasets/BB-MAS_combined_labeled/91_PocketPhone_Accelerometer_(Samsung_S6).csv for User ID 91\n",
      "Adding demographics to ../datasets/BB-MAS_combined_labeled/17_PocketPhone_Accelerometer_(Samsung_S6).csv for User ID 17\n",
      "Adding demographics to ../datasets/BB-MAS_combined_labeled/74_PocketPhone_Accelerometer_(Samsung_S6).csv for User ID 74\n",
      "Adding demographics to ../datasets/BB-MAS_combined_labeled/58_PocketPhone_Accelerometer_(Samsung_S6).csv for User ID 58\n",
      "Adding demographics to ../datasets/BB-MAS_combined_labeled/110_PocketPhone_Accelerometer_(Samsung_S6).csv for User ID 110\n",
      "Adding demographics to ../datasets/BB-MAS_combined_labeled/4_PocketPhone_Accelerometer_(Samsung_S6).csv for User ID 4\n",
      "Adding demographics to ../datasets/BB-MAS_combined_labeled/33_PocketPhone_Accelerometer_(Samsung_S6).csv for User ID 33\n",
      "Adding demographics to ../datasets/BB-MAS_combined_labeled/99_PocketPhone_Accelerometer_(Samsung_S6).csv for User ID 99\n",
      "Adding demographics to ../datasets/BB-MAS_combined_labeled/39_PocketPhone_Accelerometer_(Samsung_S6).csv for User ID 39\n",
      "Adding demographics to ../datasets/BB-MAS_combined_labeled/15_PocketPhone_Accelerometer_(Samsung_S6).csv for User ID 15\n",
      "Adding demographics to ../datasets/BB-MAS_combined_labeled/93_PocketPhone_Accelerometer_(Samsung_S6).csv for User ID 93\n",
      "Adding demographics to ../datasets/BB-MAS_combined_labeled/52_PocketPhone_Accelerometer_(Samsung_S6).csv for User ID 52\n",
      "Adding demographics to ../datasets/BB-MAS_combined_labeled/31_PocketPhone_Accelerometer_(Samsung_S6).csv for User ID 31\n",
      "Adding demographics to ../datasets/BB-MAS_combined_labeled/6_PocketPhone_Accelerometer_(Samsung_S6).csv for User ID 6\n",
      "Adding demographics to ../datasets/BB-MAS_combined_labeled/112_PocketPhone_Accelerometer_(Samsung_S6).csv for User ID 112\n",
      "Adding demographics to ../datasets/BB-MAS_combined_labeled/76_PocketPhone_Accelerometer_(Samsung_S6).csv for User ID 76\n",
      "Adding demographics to ../datasets/BB-MAS_combined_labeled/26_PocketPhone_Accelerometer_(Samsung_S6).csv for User ID 26\n",
      "Adding demographics to ../datasets/BB-MAS_combined_labeled/61_PocketPhone_Accelerometer_(Samsung_S6).csv for User ID 61\n",
      "Adding demographics to ../datasets/BB-MAS_combined_labeled/105_PocketPhone_Accelerometer_(Samsung_S6).csv for User ID 105\n",
      "Adding demographics to ../datasets/BB-MAS_combined_labeled/84_PocketPhone_Accelerometer_(Samsung_S6).csv for User ID 84\n",
      "Adding demographics to ../datasets/BB-MAS_combined_labeled/45_PocketPhone_Accelerometer_(Samsung_S6).csv for User ID 45\n",
      "Adding demographics to ../datasets/BB-MAS_combined_labeled/37_PocketPhone_Accelerometer_(Samsung_S6).csv for User ID 37\n",
      "Adding demographics to ../datasets/BB-MAS_combined_labeled/70_PocketPhone_Accelerometer_(Samsung_S6).csv for User ID 70\n",
      "Adding demographics to ../datasets/BB-MAS_combined_labeled/114_PocketPhone_Accelerometer_(Samsung_S6).csv for User ID 114\n",
      "Adding demographics to ../datasets/BB-MAS_combined_labeled/95_PocketPhone_Accelerometer_(Samsung_S6).csv for User ID 95\n",
      "Adding demographics to ../datasets/BB-MAS_combined_labeled/8_PocketPhone_Accelerometer_(Samsung_S6).csv for User ID 8\n",
      "Adding demographics to ../datasets/BB-MAS_combined_labeled/13_PocketPhone_Accelerometer_(Samsung_S6).csv for User ID 13\n",
      "Adding demographics to ../datasets/BB-MAS_combined_labeled/54_PocketPhone_Accelerometer_(Samsung_S6).csv for User ID 54\n",
      "Adding demographics to ../datasets/BB-MAS_combined_labeled/28_PocketPhone_Accelerometer_(Samsung_S6).csv for User ID 28\n",
      "Adding demographics to ../datasets/BB-MAS_combined_labeled/82_PocketPhone_Accelerometer_(Samsung_S6).csv for User ID 82\n",
      "Adding demographics to ../datasets/BB-MAS_combined_labeled/43_PocketPhone_Accelerometer_(Samsung_S6).csv for User ID 43\n",
      "Adding demographics to ../datasets/BB-MAS_combined_labeled/20_PocketPhone_Accelerometer_(Samsung_S6).csv for User ID 20\n",
      "Adding demographics to ../datasets/BB-MAS_combined_labeled/67_PocketPhone_Accelerometer_(Samsung_S6).csv for User ID 67\n",
      "Adding demographics to ../datasets/BB-MAS_combined_labeled/109_PocketPhone_Accelerometer_(Samsung_S6).csv for User ID 109\n",
      "Adding demographics to ../datasets/BB-MAS_combined_labeled/41_PocketPhone_Accelerometer_(Samsung_S6).csv for User ID 41\n",
      "Adding demographics to ../datasets/BB-MAS_combined_labeled/80_PocketPhone_Accelerometer_(Samsung_S6).csv for User ID 80\n",
      "Adding demographics to ../datasets/BB-MAS_combined_labeled/65_PocketPhone_Accelerometer_(Samsung_S6).csv for User ID 65\n",
      "Adding demographics to ../datasets/BB-MAS_combined_labeled/49_PocketPhone_Accelerometer_(Samsung_S6).csv for User ID 49\n",
      "Adding demographics to ../datasets/BB-MAS_combined_labeled/101_PocketPhone_Accelerometer_(Samsung_S6).csv for User ID 101\n",
      "Adding demographics to ../datasets/BB-MAS_combined_labeled/22_PocketPhone_Accelerometer_(Samsung_S6).csv for User ID 22\n",
      "Adding demographics to ../datasets/BB-MAS_combined_labeled/88_PocketPhone_Accelerometer_(Samsung_S6).csv for User ID 88\n",
      "Adding demographics to ../datasets/BB-MAS_combined_labeled/116_PocketPhone_Accelerometer_(Samsung_S6).csv for User ID 116\n",
      "Adding demographics to ../datasets/BB-MAS_combined_labeled/72_PocketPhone_Accelerometer_(Samsung_S6).csv for User ID 72\n",
      "Adding demographics to ../datasets/BB-MAS_combined_labeled/19_PocketPhone_Accelerometer_(Samsung_S6).csv for User ID 19\n"
     ]
    },
    {
     "name": "stdout",
     "output_type": "stream",
     "text": [
      "Adding demographics to ../datasets/BB-MAS_combined_labeled/2_PocketPhone_Accelerometer_(Samsung_S6).csv for User ID 2\n",
      "Adding demographics to ../datasets/BB-MAS_combined_labeled/35_PocketPhone_Accelerometer_(Samsung_S6).csv for User ID 35\n",
      "Adding demographics to ../datasets/BB-MAS_combined_labeled/56_PocketPhone_Accelerometer_(Samsung_S6).csv for User ID 56\n",
      "Adding demographics to ../datasets/BB-MAS_combined_labeled/11_PocketPhone_Accelerometer_(Samsung_S6).csv for User ID 11\n",
      "Adding demographics to ../datasets/BB-MAS_combined_labeled/36_PocketPhone_Accelerometer_(Samsung_S6).csv for User ID 36\n",
      "Adding demographics to ../datasets/BB-MAS_combined_labeled/1_PocketPhone_Accelerometer_(Samsung_S6).csv for User ID 1\n",
      "Adding demographics to ../datasets/BB-MAS_combined_labeled/115_PocketPhone_Accelerometer_(Samsung_S6).csv for User ID 115\n",
      "Adding demographics to ../datasets/BB-MAS_combined_labeled/71_PocketPhone_Accelerometer_(Samsung_S6).csv for User ID 71\n",
      "Adding demographics to ../datasets/BB-MAS_combined_labeled/94_PocketPhone_Accelerometer_(Samsung_S6).csv for User ID 94\n",
      "Adding demographics to ../datasets/BB-MAS_combined_labeled/79_PocketPhone_Accelerometer_(Samsung_S6).csv for User ID 79\n",
      "Adding demographics to ../datasets/BB-MAS_combined_labeled/55_PocketPhone_Accelerometer_(Samsung_S6).csv for User ID 55\n",
      "Adding demographics to ../datasets/BB-MAS_combined_labeled/29_PocketPhone_Accelerometer_(Samsung_S6).csv for User ID 29\n",
      "Adding demographics to ../datasets/BB-MAS_combined_labeled/42_PocketPhone_Accelerometer_(Samsung_S6).csv for User ID 42\n",
      "Adding demographics to ../datasets/BB-MAS_combined_labeled/21_PocketPhone_Accelerometer_(Samsung_S6).csv for User ID 21\n",
      "Adding demographics to ../datasets/BB-MAS_combined_labeled/66_PocketPhone_Accelerometer_(Samsung_S6).csv for User ID 66\n",
      "Adding demographics to ../datasets/BB-MAS_combined_labeled/102_PocketPhone_Accelerometer_(Samsung_S6).csv for User ID 102\n",
      "Adding demographics to ../datasets/BB-MAS_combined_labeled/40_PocketPhone_Accelerometer_(Samsung_S6).csv for User ID 40\n",
      "Adding demographics to ../datasets/BB-MAS_combined_labeled/108_PocketPhone_Accelerometer_(Samsung_S6).csv for User ID 108\n",
      "Adding demographics to ../datasets/BB-MAS_combined_labeled/81_PocketPhone_Accelerometer_(Samsung_S6).csv for User ID 81\n",
      "Adding demographics to ../datasets/BB-MAS_combined_labeled/100_PocketPhone_Accelerometer_(Samsung_S6).csv for User ID 100\n",
      "Adding demographics to ../datasets/BB-MAS_combined_labeled/48_PocketPhone_Accelerometer_(Samsung_S6).csv for User ID 48\n",
      "Adding demographics to ../datasets/BB-MAS_combined_labeled/64_PocketPhone_Accelerometer_(Samsung_S6).csv for User ID 64\n",
      "Adding demographics to ../datasets/BB-MAS_combined_labeled/89_PocketPhone_Accelerometer_(Samsung_S6).csv for User ID 89\n",
      "Adding demographics to ../datasets/BB-MAS_combined_labeled/23_PocketPhone_Accelerometer_(Samsung_S6).csv for User ID 23\n",
      "Adding demographics to ../datasets/BB-MAS_combined_labeled/73_PocketPhone_Accelerometer_(Samsung_S6).csv for User ID 73\n",
      "Adding demographics to ../datasets/BB-MAS_combined_labeled/3_PocketPhone_Accelerometer_(Samsung_S6).csv for User ID 3\n",
      "Adding demographics to ../datasets/BB-MAS_combined_labeled/34_PocketPhone_Accelerometer_(Samsung_S6).csv for User ID 34\n",
      "Adding demographics to ../datasets/BB-MAS_combined_labeled/18_PocketPhone_Accelerometer_(Samsung_S6).csv for User ID 18\n",
      "Adding demographics to ../datasets/BB-MAS_combined_labeled/57_PocketPhone_Accelerometer_(Samsung_S6).csv for User ID 57\n",
      "Adding demographics to ../datasets/BB-MAS_combined_labeled/96_PocketPhone_Accelerometer_(Samsung_S6).csv for User ID 96\n",
      "Adding demographics to ../datasets/BB-MAS_combined_labeled/10_PocketPhone_Accelerometer_(Samsung_S6).csv for User ID 10\n"
     ]
    }
   ],
   "source": [
    "def get_participant_number(file_path):\n",
    "    base_name = os.path.basename(file_path)\n",
    "    participant_number = base_name.split('_')[0]\n",
    "    return participant_number\n",
    "\n",
    "# path to your CSV file\n",
    "demographics_path = '../datasets/BB-MAS_Preprocessed/Demographics.csv'\n",
    "# directory containing your data files\n",
    "data_path = '../datasets/BB-MAS_combined_labeled/'\n",
    "\n",
    "# read demographics file\n",
    "df = pd.read_csv(demographics_path)\n",
    "# set 'User ID' as the index of the df\n",
    "df.set_index('User ID', inplace=True)\n",
    "\n",
    "# pattern match file names\n",
    "csv_files = glob.glob(os.path.join(data_path, '*_PocketPhone_*.csv'))\n",
    "\n",
    "for file in csv_files:\n",
    "    userID = int(get_participant_number(file))\n",
    "    if userID in df.index:\n",
    "        userGender = df.loc[userID, 'Gender']\n",
    "        userAge    = df.loc[userID, 'Age']\n",
    "        userHeight = df.loc[userID, 'Height']\n",
    "        \n",
    "        # change gender to numerical binary representation\n",
    "        if userGender == 'M':\n",
    "            userGender = 1\n",
    "        else: \n",
    "            userGender = 0\n",
    "        \n",
    "        # df for each participant\n",
    "        participant_data = pd.read_csv(file)\n",
    "        \n",
    "        # add a 'UserID', 'Age', 'Height', 'Gender' columns\n",
    "        participant_data['UserID'] = userID\n",
    "        participant_data['Age']    = userAge\n",
    "        participant_data['Height'] = userHeight\n",
    "        participant_data['Gender'] = userGender\n",
    "       \n",
    "        \n",
    "        # write the updated df back to the csv\n",
    "        participant_data.to_csv(file, index=False)\n",
    "        \n",
    "        print(f\"Adding demographics to {file} for User ID {userID}\")\n",
    "    else:\n",
    "        print(f\"User ID {userID} not found in the demographics data.\")\n",
    "\n"
   ]
  },
  {
   "cell_type": "markdown",
   "id": "39c88c76",
   "metadata": {},
   "source": [
    "### Combine all files"
   ]
  },
  {
   "cell_type": "code",
   "execution_count": 31,
   "id": "3e625ba4",
   "metadata": {},
   "outputs": [],
   "source": [
    "# function to read and concatenate files into a DataFrame\n",
    "def files_to_df(file_list):\n",
    "    dfs = [pd.read_csv(file) for file in file_list]\n",
    "    return pd.concat(dfs, ignore_index=True)"
   ]
  },
  {
   "cell_type": "code",
   "execution_count": 32,
   "id": "ea2cf75a",
   "metadata": {},
   "outputs": [],
   "source": [
    "csv_files = glob.glob(os.path.join(data_path, '*_PocketPhone_*.csv'))\n",
    "random.shuffle(csv_files)  # This shuffles the order of participants, not the data within each participant\n",
    "\n",
    "# determine split sizes, the rest goes into test\n",
    "num_files = len(csv_files)\n",
    "train_size = int(num_files * 0.7)\n",
    "val_size = int(num_files * 0.15)\n",
    "\n",
    "list_of_dataframes = []\n",
    "for file in csv_files:\n",
    "    df = pd.read_csv(file)\n",
    "    list_of_dataframes.append(df)\n",
    "\n",
    "# all files combined\n",
    "combined_df = pd.concat(list_of_dataframes, ignore_index=True)\n",
    "\n",
    "# split file paths into train, validation, and test sets\n",
    "train_files = csv_files[:train_size]\n",
    "val_files = csv_files[train_size:train_size + val_size]\n",
    "test_files = csv_files[train_size + val_size:]\n",
    "\n",
    "\n",
    "# create df for each set\n",
    "train_df = files_to_df(train_files)\n",
    "val_df = files_to_df(val_files)\n",
    "test_df = files_to_df(test_files)\n",
    "\n",
    "# save to CSV\n",
    "train_df.to_csv(folder_path_train_valid_test + 'train_dataset.csv', index=False)\n",
    "val_df.to_csv(folder_path_train_valid_test + 'val_dataset.csv', index=False)\n",
    "test_df.to_csv(folder_path_train_valid_test + 'test_dataset.csv', index=False)"
   ]
  },
  {
   "cell_type": "markdown",
   "id": "1168269f",
   "metadata": {},
   "source": [
    "## Sequencing"
   ]
  },
  {
   "cell_type": "code",
   "execution_count": null,
   "id": "0c660904",
   "metadata": {},
   "outputs": [],
   "source": [
    "feature_columns = ['Xvalue_acc', 'Yvalue_acc', 'Zvalue_acc', 'Xvalue_gyro', 'Yvalue_gyro', 'Zvalue_gyro', 'elapsed_time']  # replace with your actual feature names\n",
    "target_column = 'Gender'  \n",
    "sequence_length = 100\n",
    "step = 1\n",
    "\n",
    "def create_sequences(data, feature_columns, target_column, sequence_length, step):\n",
    "    sequences = []\n",
    "    labels = []\n",
    "    for start in range(0, len(data) - sequence_length + 1, step):\n",
    "        end = start + sequence_length\n",
    "        seq = data.iloc[start:end][feature_columns].values  # Extract the features for the sequence\n",
    "        label = data.iloc[end - 1][target_column]  # The label is the target at the end of the sequence\n",
    "        sequences.append(seq)\n",
    "        labels.append(label)\n",
    "    return np.array(sequences), np.array(labels)\n",
    "\n",
    "\n",
    "\n",
    "sequences, labels = create_sequences(train_df, feature_columns, target_column, sequence_length, step)\n",
    "\n",
    "# Labels should be reshaped if you're going to use them in a binary crossentropy setup\n",
    "labels = labels.reshape(-1, 1)\n",
    "\n",
    "# split the sequences and labels into training and validation sets\n",
    "X_train, X_val, y_train, y_val = train_test_split(sequences, labels, test_size=0.2, random_state=42)\n",
    "\n"
   ]
  },
  {
   "cell_type": "markdown",
   "id": "0bfc0de2",
   "metadata": {},
   "source": [
    "# LSTM Creation"
   ]
  },
  {
   "cell_type": "markdown",
   "id": "64be7496",
   "metadata": {},
   "source": [
    "### LSTM Model for Binary Classification"
   ]
  },
  {
   "cell_type": "code",
   "execution_count": 34,
   "id": "1033b44b",
   "metadata": {},
   "outputs": [
    {
     "name": "stdout",
     "output_type": "stream",
     "text": [
      "Model: \"sequential_1\"\n",
      "_________________________________________________________________\n",
      " Layer (type)                Output Shape              Param #   \n",
      "=================================================================\n",
      " lstm_2 (LSTM)               (None, 100, 64)           18432     \n",
      "                                                                 \n",
      " dropout_2 (Dropout)         (None, 100, 64)           0         \n",
      "                                                                 \n",
      " lstm_3 (LSTM)               (None, 32)                12416     \n",
      "                                                                 \n",
      " dropout_3 (Dropout)         (None, 32)                0         \n",
      "                                                                 \n",
      " dense_1 (Dense)             (None, 1)                 33        \n",
      "                                                                 \n",
      "=================================================================\n",
      "Total params: 30881 (120.63 KB)\n",
      "Trainable params: 30881 (120.63 KB)\n",
      "Non-trainable params: 0 (0.00 Byte)\n",
      "_________________________________________________________________\n"
     ]
    }
   ],
   "source": [
    "model = Sequential()\n",
    "model.add(LSTM(units=64, input_shape=(sequence_length, sequences.shape[2]), return_sequences=True))\n",
    "model.add(Dropout(0.5))\n",
    "model.add(LSTM(units=32, return_sequences=False))\n",
    "model.add(Dropout(0.5))\n",
    "model.add(Dense(1, activation='sigmoid'))  \n",
    "\n",
    "model.compile(optimizer='adam', loss='binary_crossentropy', metrics=['accuracy'])\n",
    "\n",
    "model.summary()\n"
   ]
  },
  {
   "cell_type": "code",
   "execution_count": 35,
   "id": "54c30002",
   "metadata": {},
   "outputs": [],
   "source": [
    "model.compile(optimizer='adam',\n",
    "              loss='binary_crossentropy',\n",
    "              metrics=['accuracy'])\n"
   ]
  },
  {
   "cell_type": "code",
   "execution_count": 36,
   "id": "4fa724dd",
   "metadata": {
    "collapsed": true
   },
   "outputs": [
    {
     "name": "stdout",
     "output_type": "stream",
     "text": [
      "Epoch 1/3\n",
      "7498/7498 [==============================] - 208s 28ms/step - loss: 0.0546 - accuracy: 0.9820 - val_loss: 0.0036 - val_accuracy: 0.9993\n",
      "Epoch 2/3\n",
      " 921/7498 [==>...........................] - ETA: 2:49 - loss: 0.0156 - accuracy: 0.9963"
     ]
    },
    {
     "ename": "KeyboardInterrupt",
     "evalue": "",
     "output_type": "error",
     "traceback": [
      "\u001b[0;31m---------------------------------------------------------------------------\u001b[0m",
      "\u001b[0;31mKeyboardInterrupt\u001b[0m                         Traceback (most recent call last)",
      "Cell \u001b[0;32mIn[36], line 1\u001b[0m\n\u001b[0;32m----> 1\u001b[0m history \u001b[38;5;241m=\u001b[39m model\u001b[38;5;241m.\u001b[39mfit(X_train, y_train, epochs\u001b[38;5;241m=\u001b[39m\u001b[38;5;241m3\u001b[39m, batch_size\u001b[38;5;241m=\u001b[39m\u001b[38;5;241m32\u001b[39m, validation_split\u001b[38;5;241m=\u001b[39m\u001b[38;5;241m0.2\u001b[39m)\n",
      "File \u001b[0;32m~/anaconda3/lib/python3.11/site-packages/keras/src/utils/traceback_utils.py:65\u001b[0m, in \u001b[0;36mfilter_traceback.<locals>.error_handler\u001b[0;34m(*args, **kwargs)\u001b[0m\n\u001b[1;32m     63\u001b[0m filtered_tb \u001b[38;5;241m=\u001b[39m \u001b[38;5;28;01mNone\u001b[39;00m\n\u001b[1;32m     64\u001b[0m \u001b[38;5;28;01mtry\u001b[39;00m:\n\u001b[0;32m---> 65\u001b[0m     \u001b[38;5;28;01mreturn\u001b[39;00m fn(\u001b[38;5;241m*\u001b[39margs, \u001b[38;5;241m*\u001b[39m\u001b[38;5;241m*\u001b[39mkwargs)\n\u001b[1;32m     66\u001b[0m \u001b[38;5;28;01mexcept\u001b[39;00m \u001b[38;5;167;01mException\u001b[39;00m \u001b[38;5;28;01mas\u001b[39;00m e:\n\u001b[1;32m     67\u001b[0m     filtered_tb \u001b[38;5;241m=\u001b[39m _process_traceback_frames(e\u001b[38;5;241m.\u001b[39m__traceback__)\n",
      "File \u001b[0;32m~/anaconda3/lib/python3.11/site-packages/keras/src/engine/training.py:1783\u001b[0m, in \u001b[0;36mModel.fit\u001b[0;34m(self, x, y, batch_size, epochs, verbose, callbacks, validation_split, validation_data, shuffle, class_weight, sample_weight, initial_epoch, steps_per_epoch, validation_steps, validation_batch_size, validation_freq, max_queue_size, workers, use_multiprocessing)\u001b[0m\n\u001b[1;32m   1775\u001b[0m \u001b[38;5;28;01mwith\u001b[39;00m tf\u001b[38;5;241m.\u001b[39mprofiler\u001b[38;5;241m.\u001b[39mexperimental\u001b[38;5;241m.\u001b[39mTrace(\n\u001b[1;32m   1776\u001b[0m     \u001b[38;5;124m\"\u001b[39m\u001b[38;5;124mtrain\u001b[39m\u001b[38;5;124m\"\u001b[39m,\n\u001b[1;32m   1777\u001b[0m     epoch_num\u001b[38;5;241m=\u001b[39mepoch,\n\u001b[0;32m   (...)\u001b[0m\n\u001b[1;32m   1780\u001b[0m     _r\u001b[38;5;241m=\u001b[39m\u001b[38;5;241m1\u001b[39m,\n\u001b[1;32m   1781\u001b[0m ):\n\u001b[1;32m   1782\u001b[0m     callbacks\u001b[38;5;241m.\u001b[39mon_train_batch_begin(step)\n\u001b[0;32m-> 1783\u001b[0m     tmp_logs \u001b[38;5;241m=\u001b[39m \u001b[38;5;28mself\u001b[39m\u001b[38;5;241m.\u001b[39mtrain_function(iterator)\n\u001b[1;32m   1784\u001b[0m     \u001b[38;5;28;01mif\u001b[39;00m data_handler\u001b[38;5;241m.\u001b[39mshould_sync:\n\u001b[1;32m   1785\u001b[0m         context\u001b[38;5;241m.\u001b[39masync_wait()\n",
      "File \u001b[0;32m~/anaconda3/lib/python3.11/site-packages/tensorflow/python/util/traceback_utils.py:150\u001b[0m, in \u001b[0;36mfilter_traceback.<locals>.error_handler\u001b[0;34m(*args, **kwargs)\u001b[0m\n\u001b[1;32m    148\u001b[0m filtered_tb \u001b[38;5;241m=\u001b[39m \u001b[38;5;28;01mNone\u001b[39;00m\n\u001b[1;32m    149\u001b[0m \u001b[38;5;28;01mtry\u001b[39;00m:\n\u001b[0;32m--> 150\u001b[0m   \u001b[38;5;28;01mreturn\u001b[39;00m fn(\u001b[38;5;241m*\u001b[39margs, \u001b[38;5;241m*\u001b[39m\u001b[38;5;241m*\u001b[39mkwargs)\n\u001b[1;32m    151\u001b[0m \u001b[38;5;28;01mexcept\u001b[39;00m \u001b[38;5;167;01mException\u001b[39;00m \u001b[38;5;28;01mas\u001b[39;00m e:\n\u001b[1;32m    152\u001b[0m   filtered_tb \u001b[38;5;241m=\u001b[39m _process_traceback_frames(e\u001b[38;5;241m.\u001b[39m__traceback__)\n",
      "File \u001b[0;32m~/anaconda3/lib/python3.11/site-packages/tensorflow/python/eager/polymorphic_function/polymorphic_function.py:831\u001b[0m, in \u001b[0;36mFunction.__call__\u001b[0;34m(self, *args, **kwds)\u001b[0m\n\u001b[1;32m    828\u001b[0m compiler \u001b[38;5;241m=\u001b[39m \u001b[38;5;124m\"\u001b[39m\u001b[38;5;124mxla\u001b[39m\u001b[38;5;124m\"\u001b[39m \u001b[38;5;28;01mif\u001b[39;00m \u001b[38;5;28mself\u001b[39m\u001b[38;5;241m.\u001b[39m_jit_compile \u001b[38;5;28;01melse\u001b[39;00m \u001b[38;5;124m\"\u001b[39m\u001b[38;5;124mnonXla\u001b[39m\u001b[38;5;124m\"\u001b[39m\n\u001b[1;32m    830\u001b[0m \u001b[38;5;28;01mwith\u001b[39;00m OptionalXlaContext(\u001b[38;5;28mself\u001b[39m\u001b[38;5;241m.\u001b[39m_jit_compile):\n\u001b[0;32m--> 831\u001b[0m   result \u001b[38;5;241m=\u001b[39m \u001b[38;5;28mself\u001b[39m\u001b[38;5;241m.\u001b[39m_call(\u001b[38;5;241m*\u001b[39margs, \u001b[38;5;241m*\u001b[39m\u001b[38;5;241m*\u001b[39mkwds)\n\u001b[1;32m    833\u001b[0m new_tracing_count \u001b[38;5;241m=\u001b[39m \u001b[38;5;28mself\u001b[39m\u001b[38;5;241m.\u001b[39mexperimental_get_tracing_count()\n\u001b[1;32m    834\u001b[0m without_tracing \u001b[38;5;241m=\u001b[39m (tracing_count \u001b[38;5;241m==\u001b[39m new_tracing_count)\n",
      "File \u001b[0;32m~/anaconda3/lib/python3.11/site-packages/tensorflow/python/eager/polymorphic_function/polymorphic_function.py:867\u001b[0m, in \u001b[0;36mFunction._call\u001b[0;34m(self, *args, **kwds)\u001b[0m\n\u001b[1;32m    864\u001b[0m   \u001b[38;5;28mself\u001b[39m\u001b[38;5;241m.\u001b[39m_lock\u001b[38;5;241m.\u001b[39mrelease()\n\u001b[1;32m    865\u001b[0m   \u001b[38;5;66;03m# In this case we have created variables on the first call, so we run the\u001b[39;00m\n\u001b[1;32m    866\u001b[0m   \u001b[38;5;66;03m# defunned version which is guaranteed to never create variables.\u001b[39;00m\n\u001b[0;32m--> 867\u001b[0m   \u001b[38;5;28;01mreturn\u001b[39;00m tracing_compilation\u001b[38;5;241m.\u001b[39mcall_function(\n\u001b[1;32m    868\u001b[0m       args, kwds, \u001b[38;5;28mself\u001b[39m\u001b[38;5;241m.\u001b[39m_no_variable_creation_config\n\u001b[1;32m    869\u001b[0m   )\n\u001b[1;32m    870\u001b[0m \u001b[38;5;28;01melif\u001b[39;00m \u001b[38;5;28mself\u001b[39m\u001b[38;5;241m.\u001b[39m_variable_creation_config \u001b[38;5;129;01mis\u001b[39;00m \u001b[38;5;129;01mnot\u001b[39;00m \u001b[38;5;28;01mNone\u001b[39;00m:\n\u001b[1;32m    871\u001b[0m   \u001b[38;5;66;03m# Release the lock early so that multiple threads can perform the call\u001b[39;00m\n\u001b[1;32m    872\u001b[0m   \u001b[38;5;66;03m# in parallel.\u001b[39;00m\n\u001b[1;32m    873\u001b[0m   \u001b[38;5;28mself\u001b[39m\u001b[38;5;241m.\u001b[39m_lock\u001b[38;5;241m.\u001b[39mrelease()\n",
      "File \u001b[0;32m~/anaconda3/lib/python3.11/site-packages/tensorflow/python/eager/polymorphic_function/tracing_compilation.py:139\u001b[0m, in \u001b[0;36mcall_function\u001b[0;34m(args, kwargs, tracing_options)\u001b[0m\n\u001b[1;32m    137\u001b[0m bound_args \u001b[38;5;241m=\u001b[39m function\u001b[38;5;241m.\u001b[39mfunction_type\u001b[38;5;241m.\u001b[39mbind(\u001b[38;5;241m*\u001b[39margs, \u001b[38;5;241m*\u001b[39m\u001b[38;5;241m*\u001b[39mkwargs)\n\u001b[1;32m    138\u001b[0m flat_inputs \u001b[38;5;241m=\u001b[39m function\u001b[38;5;241m.\u001b[39mfunction_type\u001b[38;5;241m.\u001b[39munpack_inputs(bound_args)\n\u001b[0;32m--> 139\u001b[0m \u001b[38;5;28;01mreturn\u001b[39;00m function\u001b[38;5;241m.\u001b[39m_call_flat(  \u001b[38;5;66;03m# pylint: disable=protected-access\u001b[39;00m\n\u001b[1;32m    140\u001b[0m     flat_inputs, captured_inputs\u001b[38;5;241m=\u001b[39mfunction\u001b[38;5;241m.\u001b[39mcaptured_inputs\n\u001b[1;32m    141\u001b[0m )\n",
      "File \u001b[0;32m~/anaconda3/lib/python3.11/site-packages/tensorflow/python/eager/polymorphic_function/concrete_function.py:1264\u001b[0m, in \u001b[0;36mConcreteFunction._call_flat\u001b[0;34m(self, tensor_inputs, captured_inputs)\u001b[0m\n\u001b[1;32m   1260\u001b[0m possible_gradient_type \u001b[38;5;241m=\u001b[39m gradients_util\u001b[38;5;241m.\u001b[39mPossibleTapeGradientTypes(args)\n\u001b[1;32m   1261\u001b[0m \u001b[38;5;28;01mif\u001b[39;00m (possible_gradient_type \u001b[38;5;241m==\u001b[39m gradients_util\u001b[38;5;241m.\u001b[39mPOSSIBLE_GRADIENT_TYPES_NONE\n\u001b[1;32m   1262\u001b[0m     \u001b[38;5;129;01mand\u001b[39;00m executing_eagerly):\n\u001b[1;32m   1263\u001b[0m   \u001b[38;5;66;03m# No tape is watching; skip to running the function.\u001b[39;00m\n\u001b[0;32m-> 1264\u001b[0m   \u001b[38;5;28;01mreturn\u001b[39;00m \u001b[38;5;28mself\u001b[39m\u001b[38;5;241m.\u001b[39m_inference_function\u001b[38;5;241m.\u001b[39mflat_call(args)\n\u001b[1;32m   1265\u001b[0m forward_backward \u001b[38;5;241m=\u001b[39m \u001b[38;5;28mself\u001b[39m\u001b[38;5;241m.\u001b[39m_select_forward_and_backward_functions(\n\u001b[1;32m   1266\u001b[0m     args,\n\u001b[1;32m   1267\u001b[0m     possible_gradient_type,\n\u001b[1;32m   1268\u001b[0m     executing_eagerly)\n\u001b[1;32m   1269\u001b[0m forward_function, args_with_tangents \u001b[38;5;241m=\u001b[39m forward_backward\u001b[38;5;241m.\u001b[39mforward()\n",
      "File \u001b[0;32m~/anaconda3/lib/python3.11/site-packages/tensorflow/python/eager/polymorphic_function/atomic_function.py:217\u001b[0m, in \u001b[0;36mAtomicFunction.flat_call\u001b[0;34m(self, args)\u001b[0m\n\u001b[1;32m    215\u001b[0m \u001b[38;5;28;01mdef\u001b[39;00m \u001b[38;5;21mflat_call\u001b[39m(\u001b[38;5;28mself\u001b[39m, args: Sequence[core\u001b[38;5;241m.\u001b[39mTensor]) \u001b[38;5;241m-\u001b[39m\u001b[38;5;241m>\u001b[39m Any:\n\u001b[1;32m    216\u001b[0m \u001b[38;5;250m  \u001b[39m\u001b[38;5;124;03m\"\"\"Calls with tensor inputs and returns the structured output.\"\"\"\u001b[39;00m\n\u001b[0;32m--> 217\u001b[0m   flat_outputs \u001b[38;5;241m=\u001b[39m \u001b[38;5;28mself\u001b[39m(\u001b[38;5;241m*\u001b[39margs)\n\u001b[1;32m    218\u001b[0m   \u001b[38;5;28;01mreturn\u001b[39;00m \u001b[38;5;28mself\u001b[39m\u001b[38;5;241m.\u001b[39mfunction_type\u001b[38;5;241m.\u001b[39mpack_output(flat_outputs)\n",
      "File \u001b[0;32m~/anaconda3/lib/python3.11/site-packages/tensorflow/python/eager/polymorphic_function/atomic_function.py:252\u001b[0m, in \u001b[0;36mAtomicFunction.__call__\u001b[0;34m(self, *args)\u001b[0m\n\u001b[1;32m    250\u001b[0m \u001b[38;5;28;01mwith\u001b[39;00m record\u001b[38;5;241m.\u001b[39mstop_recording():\n\u001b[1;32m    251\u001b[0m   \u001b[38;5;28;01mif\u001b[39;00m \u001b[38;5;28mself\u001b[39m\u001b[38;5;241m.\u001b[39m_bound_context\u001b[38;5;241m.\u001b[39mexecuting_eagerly():\n\u001b[0;32m--> 252\u001b[0m     outputs \u001b[38;5;241m=\u001b[39m \u001b[38;5;28mself\u001b[39m\u001b[38;5;241m.\u001b[39m_bound_context\u001b[38;5;241m.\u001b[39mcall_function(\n\u001b[1;32m    253\u001b[0m         \u001b[38;5;28mself\u001b[39m\u001b[38;5;241m.\u001b[39mname,\n\u001b[1;32m    254\u001b[0m         \u001b[38;5;28mlist\u001b[39m(args),\n\u001b[1;32m    255\u001b[0m         \u001b[38;5;28mlen\u001b[39m(\u001b[38;5;28mself\u001b[39m\u001b[38;5;241m.\u001b[39mfunction_type\u001b[38;5;241m.\u001b[39mflat_outputs),\n\u001b[1;32m    256\u001b[0m     )\n\u001b[1;32m    257\u001b[0m   \u001b[38;5;28;01melse\u001b[39;00m:\n\u001b[1;32m    258\u001b[0m     outputs \u001b[38;5;241m=\u001b[39m make_call_op_in_graph(\n\u001b[1;32m    259\u001b[0m         \u001b[38;5;28mself\u001b[39m,\n\u001b[1;32m    260\u001b[0m         \u001b[38;5;28mlist\u001b[39m(args),\n\u001b[1;32m    261\u001b[0m         \u001b[38;5;28mself\u001b[39m\u001b[38;5;241m.\u001b[39m_bound_context\u001b[38;5;241m.\u001b[39mfunction_call_options\u001b[38;5;241m.\u001b[39mas_attrs(),\n\u001b[1;32m    262\u001b[0m     )\n",
      "File \u001b[0;32m~/anaconda3/lib/python3.11/site-packages/tensorflow/python/eager/context.py:1479\u001b[0m, in \u001b[0;36mContext.call_function\u001b[0;34m(self, name, tensor_inputs, num_outputs)\u001b[0m\n\u001b[1;32m   1477\u001b[0m cancellation_context \u001b[38;5;241m=\u001b[39m cancellation\u001b[38;5;241m.\u001b[39mcontext()\n\u001b[1;32m   1478\u001b[0m \u001b[38;5;28;01mif\u001b[39;00m cancellation_context \u001b[38;5;129;01mis\u001b[39;00m \u001b[38;5;28;01mNone\u001b[39;00m:\n\u001b[0;32m-> 1479\u001b[0m   outputs \u001b[38;5;241m=\u001b[39m execute\u001b[38;5;241m.\u001b[39mexecute(\n\u001b[1;32m   1480\u001b[0m       name\u001b[38;5;241m.\u001b[39mdecode(\u001b[38;5;124m\"\u001b[39m\u001b[38;5;124mutf-8\u001b[39m\u001b[38;5;124m\"\u001b[39m),\n\u001b[1;32m   1481\u001b[0m       num_outputs\u001b[38;5;241m=\u001b[39mnum_outputs,\n\u001b[1;32m   1482\u001b[0m       inputs\u001b[38;5;241m=\u001b[39mtensor_inputs,\n\u001b[1;32m   1483\u001b[0m       attrs\u001b[38;5;241m=\u001b[39mattrs,\n\u001b[1;32m   1484\u001b[0m       ctx\u001b[38;5;241m=\u001b[39m\u001b[38;5;28mself\u001b[39m,\n\u001b[1;32m   1485\u001b[0m   )\n\u001b[1;32m   1486\u001b[0m \u001b[38;5;28;01melse\u001b[39;00m:\n\u001b[1;32m   1487\u001b[0m   outputs \u001b[38;5;241m=\u001b[39m execute\u001b[38;5;241m.\u001b[39mexecute_with_cancellation(\n\u001b[1;32m   1488\u001b[0m       name\u001b[38;5;241m.\u001b[39mdecode(\u001b[38;5;124m\"\u001b[39m\u001b[38;5;124mutf-8\u001b[39m\u001b[38;5;124m\"\u001b[39m),\n\u001b[1;32m   1489\u001b[0m       num_outputs\u001b[38;5;241m=\u001b[39mnum_outputs,\n\u001b[0;32m   (...)\u001b[0m\n\u001b[1;32m   1493\u001b[0m       cancellation_manager\u001b[38;5;241m=\u001b[39mcancellation_context,\n\u001b[1;32m   1494\u001b[0m   )\n",
      "File \u001b[0;32m~/anaconda3/lib/python3.11/site-packages/tensorflow/python/eager/execute.py:60\u001b[0m, in \u001b[0;36mquick_execute\u001b[0;34m(op_name, num_outputs, inputs, attrs, ctx, name)\u001b[0m\n\u001b[1;32m     53\u001b[0m   \u001b[38;5;66;03m# Convert any objects of type core_types.Tensor to Tensor.\u001b[39;00m\n\u001b[1;32m     54\u001b[0m   inputs \u001b[38;5;241m=\u001b[39m [\n\u001b[1;32m     55\u001b[0m       tensor_conversion_registry\u001b[38;5;241m.\u001b[39mconvert(t)\n\u001b[1;32m     56\u001b[0m       \u001b[38;5;28;01mif\u001b[39;00m \u001b[38;5;28misinstance\u001b[39m(t, core_types\u001b[38;5;241m.\u001b[39mTensor)\n\u001b[1;32m     57\u001b[0m       \u001b[38;5;28;01melse\u001b[39;00m t\n\u001b[1;32m     58\u001b[0m       \u001b[38;5;28;01mfor\u001b[39;00m t \u001b[38;5;129;01min\u001b[39;00m inputs\n\u001b[1;32m     59\u001b[0m   ]\n\u001b[0;32m---> 60\u001b[0m   tensors \u001b[38;5;241m=\u001b[39m pywrap_tfe\u001b[38;5;241m.\u001b[39mTFE_Py_Execute(ctx\u001b[38;5;241m.\u001b[39m_handle, device_name, op_name,\n\u001b[1;32m     61\u001b[0m                                       inputs, attrs, num_outputs)\n\u001b[1;32m     62\u001b[0m \u001b[38;5;28;01mexcept\u001b[39;00m core\u001b[38;5;241m.\u001b[39m_NotOkStatusException \u001b[38;5;28;01mas\u001b[39;00m e:\n\u001b[1;32m     63\u001b[0m   \u001b[38;5;28;01mif\u001b[39;00m name \u001b[38;5;129;01mis\u001b[39;00m \u001b[38;5;129;01mnot\u001b[39;00m \u001b[38;5;28;01mNone\u001b[39;00m:\n",
      "\u001b[0;31mKeyboardInterrupt\u001b[0m: "
     ]
    }
   ],
   "source": [
    "history = model.fit(X_train, y_train, epochs=3, batch_size=32, validation_split=0.2)"
   ]
  },
  {
   "cell_type": "code",
   "execution_count": 15,
   "id": "52316196",
   "metadata": {},
   "outputs": [
    {
     "name": "stdout",
     "output_type": "stream",
     "text": [
      "2344/2344 [==============================] - 19s 8ms/step - loss: 0.0014 - accuracy: 0.9997\n",
      "Validation Loss: 0.0014212598325684667\n",
      "Validation Accuracy: 0.9996932744979858\n"
     ]
    }
   ],
   "source": [
    "val_loss, val_accuracy = model.evaluate(X_val, y_val)\n",
    "print(f\"Validation Loss: {val_loss}\")\n",
    "print(f\"Validation Accuracy: {val_accuracy}\")\n"
   ]
  },
  {
   "cell_type": "markdown",
   "id": "602a1e97",
   "metadata": {},
   "source": [
    "### Save Model "
   ]
  },
  {
   "cell_type": "code",
   "execution_count": 18,
   "id": "57968928",
   "metadata": {},
   "outputs": [],
   "source": [
    "model.save(\"gait_sex_classification.h5\")"
   ]
  },
  {
   "cell_type": "markdown",
   "id": "6d4801d6",
   "metadata": {},
   "source": [
    "### Load Model"
   ]
  },
  {
   "cell_type": "code",
   "execution_count": 22,
   "id": "9c360733",
   "metadata": {
    "collapsed": true
   },
   "outputs": [
    {
     "ename": "AttributeError",
     "evalue": "'Adam' object has no attribute 'build'",
     "output_type": "error",
     "traceback": [
      "\u001b[0;31m---------------------------------------------------------------------------\u001b[0m",
      "\u001b[0;31mAttributeError\u001b[0m                            Traceback (most recent call last)",
      "Cell \u001b[0;32mIn[22], line 1\u001b[0m\n\u001b[0;32m----> 1\u001b[0m new_model \u001b[38;5;241m=\u001b[39m tf\u001b[38;5;241m.\u001b[39mkeras\u001b[38;5;241m.\u001b[39mmodels\u001b[38;5;241m.\u001b[39mload_model(\u001b[38;5;124m'\u001b[39m\u001b[38;5;124mgait_sex_classification.keras\u001b[39m\u001b[38;5;124m'\u001b[39m)\n\u001b[1;32m      3\u001b[0m \u001b[38;5;66;03m# Show the model architecture\u001b[39;00m\n\u001b[1;32m      4\u001b[0m new_model\u001b[38;5;241m.\u001b[39msummary()\n",
      "File \u001b[0;32m~/anaconda3/lib/python3.11/site-packages/keras/src/saving/saving_api.py:254\u001b[0m, in \u001b[0;36mload_model\u001b[0;34m(filepath, custom_objects, compile, safe_mode, **kwargs)\u001b[0m\n\u001b[1;32m    249\u001b[0m     \u001b[38;5;28;01mif\u001b[39;00m kwargs:\n\u001b[1;32m    250\u001b[0m         \u001b[38;5;28;01mraise\u001b[39;00m \u001b[38;5;167;01mValueError\u001b[39;00m(\n\u001b[1;32m    251\u001b[0m             \u001b[38;5;124m\"\u001b[39m\u001b[38;5;124mThe following argument(s) are not supported \u001b[39m\u001b[38;5;124m\"\u001b[39m\n\u001b[1;32m    252\u001b[0m             \u001b[38;5;124mf\u001b[39m\u001b[38;5;124m\"\u001b[39m\u001b[38;5;124mwith the native Keras format: \u001b[39m\u001b[38;5;132;01m{\u001b[39;00m\u001b[38;5;28mlist\u001b[39m(kwargs\u001b[38;5;241m.\u001b[39mkeys())\u001b[38;5;132;01m}\u001b[39;00m\u001b[38;5;124m\"\u001b[39m\n\u001b[1;32m    253\u001b[0m         )\n\u001b[0;32m--> 254\u001b[0m     \u001b[38;5;28;01mreturn\u001b[39;00m saving_lib\u001b[38;5;241m.\u001b[39mload_model(\n\u001b[1;32m    255\u001b[0m         filepath,\n\u001b[1;32m    256\u001b[0m         custom_objects\u001b[38;5;241m=\u001b[39mcustom_objects,\n\u001b[1;32m    257\u001b[0m         \u001b[38;5;28mcompile\u001b[39m\u001b[38;5;241m=\u001b[39m\u001b[38;5;28mcompile\u001b[39m,\n\u001b[1;32m    258\u001b[0m         safe_mode\u001b[38;5;241m=\u001b[39msafe_mode,\n\u001b[1;32m    259\u001b[0m     )\n\u001b[1;32m    261\u001b[0m \u001b[38;5;66;03m# Legacy case.\u001b[39;00m\n\u001b[1;32m    262\u001b[0m \u001b[38;5;28;01mreturn\u001b[39;00m legacy_sm_saving_lib\u001b[38;5;241m.\u001b[39mload_model(\n\u001b[1;32m    263\u001b[0m     filepath, custom_objects\u001b[38;5;241m=\u001b[39mcustom_objects, \u001b[38;5;28mcompile\u001b[39m\u001b[38;5;241m=\u001b[39m\u001b[38;5;28mcompile\u001b[39m, \u001b[38;5;241m*\u001b[39m\u001b[38;5;241m*\u001b[39mkwargs\n\u001b[1;32m    264\u001b[0m )\n",
      "File \u001b[0;32m~/anaconda3/lib/python3.11/site-packages/keras/src/saving/saving_lib.py:281\u001b[0m, in \u001b[0;36mload_model\u001b[0;34m(filepath, custom_objects, compile, safe_mode)\u001b[0m\n\u001b[1;32m    278\u001b[0m             asset_store\u001b[38;5;241m.\u001b[39mclose()\n\u001b[1;32m    280\u001b[0m \u001b[38;5;28;01mexcept\u001b[39;00m \u001b[38;5;167;01mException\u001b[39;00m \u001b[38;5;28;01mas\u001b[39;00m e:\n\u001b[0;32m--> 281\u001b[0m     \u001b[38;5;28;01mraise\u001b[39;00m e\n\u001b[1;32m    282\u001b[0m \u001b[38;5;28;01melse\u001b[39;00m:\n\u001b[1;32m    283\u001b[0m     \u001b[38;5;28;01mreturn\u001b[39;00m model\n",
      "File \u001b[0;32m~/anaconda3/lib/python3.11/site-packages/keras/src/saving/saving_lib.py:246\u001b[0m, in \u001b[0;36mload_model\u001b[0;34m(filepath, custom_objects, compile, safe_mode)\u001b[0m\n\u001b[1;32m    244\u001b[0m \u001b[38;5;66;03m# Construct the model from the configuration file in the archive.\u001b[39;00m\n\u001b[1;32m    245\u001b[0m \u001b[38;5;28;01mwith\u001b[39;00m ObjectSharingScope():\n\u001b[0;32m--> 246\u001b[0m     model \u001b[38;5;241m=\u001b[39m deserialize_keras_object(\n\u001b[1;32m    247\u001b[0m         config_dict, custom_objects, safe_mode\u001b[38;5;241m=\u001b[39msafe_mode\n\u001b[1;32m    248\u001b[0m     )\n\u001b[1;32m    250\u001b[0m all_filenames \u001b[38;5;241m=\u001b[39m zf\u001b[38;5;241m.\u001b[39mnamelist()\n\u001b[1;32m    251\u001b[0m \u001b[38;5;28;01mif\u001b[39;00m _VARS_FNAME \u001b[38;5;241m+\u001b[39m \u001b[38;5;124m\"\u001b[39m\u001b[38;5;124m.h5\u001b[39m\u001b[38;5;124m\"\u001b[39m \u001b[38;5;129;01min\u001b[39;00m all_filenames:\n",
      "File \u001b[0;32m~/anaconda3/lib/python3.11/site-packages/keras/src/saving/serialization_lib.py:734\u001b[0m, in \u001b[0;36mdeserialize_keras_object\u001b[0;34m(config, custom_objects, safe_mode, **kwargs)\u001b[0m\n\u001b[1;32m    732\u001b[0m     compile_config \u001b[38;5;241m=\u001b[39m config\u001b[38;5;241m.\u001b[39mget(\u001b[38;5;124m\"\u001b[39m\u001b[38;5;124mcompile_config\u001b[39m\u001b[38;5;124m\"\u001b[39m, \u001b[38;5;28;01mNone\u001b[39;00m)\n\u001b[1;32m    733\u001b[0m     \u001b[38;5;28;01mif\u001b[39;00m compile_config:\n\u001b[0;32m--> 734\u001b[0m         instance\u001b[38;5;241m.\u001b[39mcompile_from_config(compile_config)\n\u001b[1;32m    736\u001b[0m \u001b[38;5;28;01mif\u001b[39;00m \u001b[38;5;124m\"\u001b[39m\u001b[38;5;124mshared_object_id\u001b[39m\u001b[38;5;124m\"\u001b[39m \u001b[38;5;129;01min\u001b[39;00m config:\n\u001b[1;32m    737\u001b[0m     record_object_after_deserialization(\n\u001b[1;32m    738\u001b[0m         instance, config[\u001b[38;5;124m\"\u001b[39m\u001b[38;5;124mshared_object_id\u001b[39m\u001b[38;5;124m\"\u001b[39m]\n\u001b[1;32m    739\u001b[0m     )\n",
      "File \u001b[0;32m~/anaconda3/lib/python3.11/site-packages/keras/src/engine/training.py:3661\u001b[0m, in \u001b[0;36mModel.compile_from_config\u001b[0;34m(self, config)\u001b[0m\n\u001b[1;32m   3658\u001b[0m \u001b[38;5;28mself\u001b[39m\u001b[38;5;241m.\u001b[39mcompile(\u001b[38;5;241m*\u001b[39m\u001b[38;5;241m*\u001b[39mconfig)\n\u001b[1;32m   3659\u001b[0m \u001b[38;5;28;01mif\u001b[39;00m \u001b[38;5;28mhasattr\u001b[39m(\u001b[38;5;28mself\u001b[39m, \u001b[38;5;124m\"\u001b[39m\u001b[38;5;124moptimizer\u001b[39m\u001b[38;5;124m\"\u001b[39m) \u001b[38;5;129;01mand\u001b[39;00m \u001b[38;5;28mself\u001b[39m\u001b[38;5;241m.\u001b[39mbuilt:\n\u001b[1;32m   3660\u001b[0m     \u001b[38;5;66;03m# Create optimizer variables.\u001b[39;00m\n\u001b[0;32m-> 3661\u001b[0m     \u001b[38;5;28mself\u001b[39m\u001b[38;5;241m.\u001b[39moptimizer\u001b[38;5;241m.\u001b[39mbuild(\u001b[38;5;28mself\u001b[39m\u001b[38;5;241m.\u001b[39mtrainable_variables)\n",
      "File \u001b[0;32m~/anaconda3/lib/python3.11/site-packages/keras/src/optimizers/legacy/optimizer_v2.py:997\u001b[0m, in \u001b[0;36mOptimizerV2.__getattribute__\u001b[0;34m(self, name)\u001b[0m\n\u001b[1;32m    995\u001b[0m \u001b[38;5;28;01mif\u001b[39;00m name \u001b[38;5;129;01min\u001b[39;00m \u001b[38;5;28mself\u001b[39m\u001b[38;5;241m.\u001b[39m_hyper:\n\u001b[1;32m    996\u001b[0m     \u001b[38;5;28;01mreturn\u001b[39;00m \u001b[38;5;28mself\u001b[39m\u001b[38;5;241m.\u001b[39m_get_hyper(name)\n\u001b[0;32m--> 997\u001b[0m \u001b[38;5;28;01mraise\u001b[39;00m e\n",
      "File \u001b[0;32m~/anaconda3/lib/python3.11/site-packages/keras/src/optimizers/legacy/optimizer_v2.py:987\u001b[0m, in \u001b[0;36mOptimizerV2.__getattribute__\u001b[0;34m(self, name)\u001b[0m\n\u001b[1;32m    985\u001b[0m \u001b[38;5;250m\u001b[39m\u001b[38;5;124;03m\"\"\"Overridden to support hyperparameter access.\"\"\"\u001b[39;00m\n\u001b[1;32m    986\u001b[0m \u001b[38;5;28;01mtry\u001b[39;00m:\n\u001b[0;32m--> 987\u001b[0m     \u001b[38;5;28;01mreturn\u001b[39;00m \u001b[38;5;28msuper\u001b[39m()\u001b[38;5;241m.\u001b[39m\u001b[38;5;21m__getattribute__\u001b[39m(name)\n\u001b[1;32m    988\u001b[0m \u001b[38;5;28;01mexcept\u001b[39;00m \u001b[38;5;167;01mAttributeError\u001b[39;00m \u001b[38;5;28;01mas\u001b[39;00m e:\n\u001b[1;32m    989\u001b[0m     \u001b[38;5;66;03m# Needed to avoid infinite recursion with __setattr__.\u001b[39;00m\n\u001b[1;32m    990\u001b[0m     \u001b[38;5;28;01mif\u001b[39;00m name \u001b[38;5;241m==\u001b[39m \u001b[38;5;124m\"\u001b[39m\u001b[38;5;124m_hyper\u001b[39m\u001b[38;5;124m\"\u001b[39m:\n",
      "\u001b[0;31mAttributeError\u001b[0m: 'Adam' object has no attribute 'build'"
     ]
    }
   ],
   "source": [
    "new_model = tf.keras.models.load_model('gait_sex_classification.keras')\n",
    "\n",
    "# Show the model architecture\n",
    "new_model.summary()"
   ]
  },
  {
   "cell_type": "markdown",
   "id": "e70f6c00",
   "metadata": {},
   "source": [
    "## Dynamic Time Warping"
   ]
  },
  {
   "cell_type": "code",
   "execution_count": 3,
   "id": "83b95d01",
   "metadata": {},
   "outputs": [
    {
     "name": "stdout",
     "output_type": "stream",
     "text": [
      "DTW distance between series: 26.20040608905935\n"
     ]
    }
   ],
   "source": [
    "import pandas as pd\n",
    "from dtaidistance import dtw\n",
    "import numpy as np\n",
    "\n",
    "sensor1_df = pd.read_csv('../datasets/BB-MAS_Preprocessed/accelerometer/1_PocketPhone_Accelerometer_(Samsung_S6).csv')\n",
    "sensor2_df = pd.read_csv('../datasets/BB-MAS_Preprocessed/gyroscope/1_PocketPhone_Gyroscope_(Samsung_S6).csv')\n",
    "\n",
    "series1 = sensor1_df['Xvalue'].values\n",
    "series2 = sensor2_df['Xvalue'].values\n",
    "\n",
    "# perform DTW\n",
    "distance, paths = dtw.warping_paths(series1, series2, window=int(max(sensor1_df['elapsed_time'])), psi=2)\n",
    "best_path = dtw.best_path(paths)\n",
    "\n",
    "print(f\"DTW distance between series: {distance}\")"
   ]
  },
  {
   "cell_type": "code",
   "execution_count": 5,
   "id": "c6234c77",
   "metadata": {
    "collapsed": true
   },
   "outputs": [
    {
     "data": {
      "image/png": "[encoded data removed]",
      "text/plain": [
       "<Figure size 1000x500 with 2 Axes>"
      ]
     },
     "metadata": {},
     "output_type": "display_data"
    }
   ],
   "source": [
    "import matplotlib.pyplot as plt\n",
    "\n",
    "# Visualize the path\n",
    "plt.figure(figsize=(10, 5))\n",
    "plt.subplot(1, 2, 1)\n",
    "plt.title('Sensor 1')\n",
    "plt.plot(sensor1_df['elapsed_time'], series1)\n",
    "plt.subplot(1, 2, 2)\n",
    "plt.title('Sensor 2')\n",
    "plt.plot(sensor2_df['elapsed_time'], series2)\n",
    "plt.show()\n"
   ]
  },
  {
   "cell_type": "markdown",
   "id": "01d970f4",
   "metadata": {},
   "source": [
    "## Scale Verification "
   ]
  },
  {
   "cell_type": "code",
   "execution_count": 4,
   "id": "e7df0697",
   "metadata": {
    "scrolled": false
   },
   "outputs": [
    {
     "data": {
      "image/png": "[encoded data removed]",
      "text/plain": [
       "<Figure size 720x432 with 1 Axes>"
      ]
     },
     "metadata": {
      "needs_background": "light"
     },
     "output_type": "display_data"
    },
    {
     "data": {
      "image/png": "[encoded data removed]",
      "text/plain": [
       "<Figure size 720x432 with 1 Axes>"
      ]
     },
     "metadata": {
      "needs_background": "light"
     },
     "output_type": "display_data"
    },
    {
     "data": {
      "image/png": "[encoded data removed]",
      "text/plain": [
       "<Figure size 576x432 with 1 Axes>"
      ]
     },
     "metadata": {
      "needs_background": "light"
     },
     "output_type": "display_data"
    }
   ],
   "source": [
    "import matplotlib.pyplot as plt\n",
    "\n",
    "root_dir   = '../datasets/BB-MAS_Dataset/BB-MAS_Dataset/'\n",
    "output_dir = '../datasets/BB-MAS_Preprocessed/accelerometer/'\n",
    "\n",
    "folder_path = os.path.join(root_dir, \"1\")\n",
    "csv_files = glob.glob(os.path.join(folder_path, '*_PocketPhone_*.csv'))\n",
    "scaled_files = glob.glob(os.path.join(output_dir, '1_PocketPhone_*.csv'))\n",
    "\n",
    "df = pd.read_csv(csv_files[0])\n",
    "X_train = df['Xvalue']\n",
    "X_scatter = df[['Xvalue', 'Yvalue']]\n",
    "\n",
    "df_scaled = pd.read_csv(scaled_files[0])\n",
    "X_train_scaled = df_scaled['Xvalue']\n",
    "X_scatter_scaled = df[['Xvalue', 'Yvalue']]\n",
    "\n",
    "# histograms\n",
    "# before scaling\n",
    "plt.figure(figsize=(10, 6))\n",
    "plt.hist(X_train, bins=50, alpha=0.5, label='Before Scaling')\n",
    "plt.legend()\n",
    "plt.show()\n",
    "\n",
    "# after scaling\n",
    "plt.figure(figsize=(10, 6))\n",
    "plt.hist(X_train_scaled, bins=50, alpha=0.5, label='After Scaling')\n",
    "plt.legend()\n",
    "plt.show()\n",
    "\n",
    "# scatter plot\n",
    "plt.figure(figsize=(8, 6))\n",
    "plt.scatter(X_scatter['Xvalue'], X_scatter['Yvalue'], alpha=0.5, label='Before Scaling')\n",
    "plt.scatter(X_scatter_scaled['Xvalue'], X_scatter_scaled['Yvalue'], alpha=0.5, label='After Scaling')\n",
    "plt.title(\"Feature Comparison Before and After Scaling\")\n",
    "plt.xlabel(\"Xvalue\")\n",
    "plt.ylabel(\"Yvalue\")\n",
    "plt.legend()\n",
    "plt.show()\n",
    "\n"
   ]
  },
  {
   "cell_type": "code",
   "execution_count": null,
   "id": "038d3f1a",
   "metadata": {},
   "outputs": [],
   "source": []
  }
 ],
 "metadata": {
  "kernelspec": {
   "display_name": "Python 3 (ipykernel)",
   "language": "python",
   "name": "python3"
  },
  "language_info": {
   "codemirror_mode": {
    "name": "ipython",
    "version": 3
   },
   "file_extension": ".py",
   "mimetype": "text/x-python",
   "name": "python",
   "nbconvert_exporter": "python",
   "pygments_lexer": "ipython3",
   "version": "3.11.5"
  }
 },
 "nbformat": 4,
 "nbformat_minor": 5
}
